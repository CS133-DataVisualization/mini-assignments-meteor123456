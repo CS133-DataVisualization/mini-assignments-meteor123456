{
  "cells": [
    {
      "cell_type": "markdown",
      "metadata": {
        "id": "ZgULxg_0AuZL"
      },
      "source": [
        "###**Q1**.  Use [Lucidchart](https://sjsu.edu/it/services/applications/lucidchart.php) to create an Entity Relationship Diagram (ERD) for the following tables representing a customer order tracking system:\n",
        "\n",
        "Tables and fields:\n",
        "1. product:\n",
        "    - product_id: INTEGER (Primary key)\n",
        "    - name: TEXT not null\n",
        "    - price: REAL\n",
        "\n",
        "\n",
        "2. customer:\n",
        "    - customer_id: INTEGER (Primary key)\n",
        "    - name: TEXT not null\n",
        "    - email: TEXT not null\n",
        "\n",
        "\n",
        "3. purchase_order:\n",
        "    - order_id: INTEGER (Primary key)\n",
        "    - customer_id: INTEGER (Foreign key)\n",
        "    - date: TEXT not null (\"YYYY-MM-DD\")\n",
        "\n",
        "\n",
        "4. order_item:\n",
        "    - order_id: INTEGER (Foreign key)\n",
        "    - product_id: INTEGER (Foreign key)\n",
        "    - quantity: INTEGER\n",
        "    \n",
        "\n",
        "\n",
        "Export the ERD as PDF and submit it in Canvas."
      ]
    },
    {
      "cell_type": "markdown",
      "metadata": {
        "id": "PZJtgMx7AuZO"
      },
      "source": [
        "###**Q2**. Create SQLite tables and load data\n",
        "1. Here are the csv files for the data for the four tables:\n",
        "   - product: https://raw.githubusercontent.com/csbfx/cs133/main/product.csv\n",
        "   - customer: https://raw.githubusercontent.com/csbfx/cs133/main/customer.csv\n",
        "   - order_item: https://raw.githubusercontent.com/csbfx/cs133/main/order_item.csv\n",
        "   - purchase_order: https://raw.githubusercontent.com/csbfx/cs133/main/purchase_order.csv\n",
        "2. In this notebook, create the database and save it in a file called `store.db`, and create the four tables as described above.\n",
        "3. Load the data in the csv files into the corresponding table.\n",
        "4. Commit so that the data loaded to the tables to officially written to the tables.\n",
        "5. Execute a query SELECT * from each table to make sure the data are properly loaded.\n",
        "6. Execute a query using SELECT statement that queries with JOIN tables to find the purchase date, the products and quantities that a particular customer has purchased."
      ]
    },
    {
      "cell_type": "code",
      "source": [
        "import pandas as pd\n",
        "import sqlite3\n",
        "from pathlib import Path"
      ],
      "metadata": {
        "id": "HXm8VnOolvCY"
      },
      "execution_count": 1,
      "outputs": []
    },
    {
      "cell_type": "code",
      "source": [
        "from google.colab import drive\n",
        "drive.mount('/content/drive')"
      ],
      "metadata": {
        "colab": {
          "base_uri": "https://localhost:8080/"
        },
        "id": "FBlZJCHvmURZ",
        "outputId": "6fbfbbd2-496a-4a32-cda5-af46fcd12678"
      },
      "execution_count": 2,
      "outputs": [
        {
          "output_type": "stream",
          "name": "stdout",
          "text": [
            "Mounted at /content/drive\n"
          ]
        }
      ]
    },
    {
      "cell_type": "code",
      "source": [
        "gdrive='drive/MyDrive/SJSU/Fall24/'\n",
        "Path(gdrive+'student.db').touch()"
      ],
      "metadata": {
        "id": "z2yWwsy5mbLj"
      },
      "execution_count": 23,
      "outputs": []
    },
    {
      "cell_type": "code",
      "source": [
        "conn = sqlite3.connect(gdrive+'student.db') # creates a connection to the database\n",
        "c = conn.cursor() # the cursor is what we'll actually use"
      ],
      "metadata": {
        "id": "zS9Q_qVImr4J"
      },
      "execution_count": 25,
      "outputs": []
    },
    {
      "cell_type": "code",
      "execution_count": 26,
      "metadata": {
        "id": "w4xnppG8AuZP",
        "colab": {
          "base_uri": "https://localhost:8080/"
        },
        "outputId": "1f03e378-2794-47f9-b240-c85b7a5ea346"
      },
      "outputs": [
        {
          "output_type": "execute_result",
          "data": {
            "text/plain": [
              "<sqlite3.Cursor at 0x7a4ee024f9c0>"
            ]
          },
          "metadata": {},
          "execution_count": 26
        }
      ],
      "source": [
        "# 2.2 Create the database and save it in a file called store.db, and create the four tables as described above.\n",
        "# Your code here . . .\n",
        "SQL_CreateTable = '''CREATE TABLE IF NOT EXISTS product (\n",
        "             product_id INTEGER PRIMARY KEY,\n",
        "             name TEXT NOT NULL,\n",
        "             price REAL\n",
        "             )'''\n",
        "\n",
        "c.execute(SQL_CreateTable)\n",
        "SQL_CreateTable = '''CREATE TABLE IF NOT EXISTS customer (\n",
        "             customer_id INTEGER PRIMARY KEY,\n",
        "             name TEXT NOT NULL,\n",
        "             email TEXT NOT NULL\n",
        "             )'''\n",
        "\n",
        "c.execute(SQL_CreateTable)\n",
        "SQL_CreateTable = '''CREATE TABLE IF NOT EXISTS purchase_order (\n",
        "             order_id INTEGER PRIMARY KEY,\n",
        "             customer_id INTEGER,\n",
        "             date TEXT not null,\n",
        "             FOREIGN KEY (customer_id) REFERENCES customer(customer_id)\n",
        "             )'''\n",
        "\n",
        "c.execute(SQL_CreateTable)\n",
        "SQL_CreateTable = '''CREATE TABLE IF NOT EXISTS order_item (\n",
        "             order_id INTEGER,\n",
        "             product_id INTEGER,\n",
        "             quantity INTEGER,\n",
        "             PRIMARY KEY (order_id, product_id),\n",
        "             FOREIGN KEY (order_id) REFERENCES purchase_order(order_id),\n",
        "             FOREIGN KEY (product_id) REFERENCES product(product_id)\n",
        "             )'''\n",
        "\n",
        "c.execute(SQL_CreateTable)"
      ]
    },
    {
      "cell_type": "code",
      "source": [
        "# 2.3 Load the data in the csv files into the corresponding table.\n",
        "# Your code here . . .\n",
        "SQL_InsertStmt = \"\"\"INSERT INTO product VALUES\n",
        "                 (0,'bicycle', 400),\n",
        "                  (1,'helmet', 45),\n",
        "                   (2,'gloves', 23),\n",
        "                  (3,'chain', 48)\"\"\"\n",
        "\n",
        "c.execute(SQL_InsertStmt)\n",
        "\n",
        "SQL_InsertStmt = \"\"\"INSERT INTO customer VALUES\n",
        "                 (0, 'Wendy Lee', 'wlee@bike.com'),\n",
        "                (1, 'Jason Brown', 'jb@speed.com'),\n",
        "                (2, 'Harry Potter', 'hp@hogwarts.edu'),\n",
        "                (3, 'Godric Gryffindor', 'gg@hogwards.edu')\"\"\"\n",
        "\n",
        "c.execute(SQL_InsertStmt)\n",
        "\n",
        "\n",
        "SQL_InsertStmt = \"\"\"INSERT INTO purchase_order VALUES\n",
        "                 (0, 0, '2020-10-19'),\n",
        "              (1, 0, '2020-10-20'),\n",
        "              (2, 1, '2020-10-20')\"\"\"\n",
        "\n",
        "c.execute(SQL_InsertStmt)\n",
        "\n",
        "SQL_InsertStmt = \"\"\"INSERT INTO order_item VALUES\n",
        "                 (0, 0, 1),\n",
        "                  (0, 1, 1),\n",
        "                  (1, 2, 2),\n",
        "                (1, 3, 1)\"\"\"\n",
        "\n",
        "c.execute(SQL_InsertStmt)\n"
      ],
      "metadata": {
        "id": "WPRhy-dSBY-c",
        "colab": {
          "base_uri": "https://localhost:8080/"
        },
        "outputId": "6a9b4f02-8631-475c-bdc8-be11f7d60ddf"
      },
      "execution_count": 27,
      "outputs": [
        {
          "output_type": "execute_result",
          "data": {
            "text/plain": [
              "<sqlite3.Cursor at 0x7a4ee024f9c0>"
            ]
          },
          "metadata": {},
          "execution_count": 27
        }
      ]
    },
    {
      "cell_type": "code",
      "source": [
        "# 2.4 Commit so that the data loaded to the tables to officially written to the tables.\n",
        "# Your code here . . .\n",
        "conn.commit()"
      ],
      "metadata": {
        "id": "VIBaGXPABbVO"
      },
      "execution_count": 28,
      "outputs": []
    },
    {
      "cell_type": "code",
      "source": [
        "# 2.5 Execute a query SELECT * from each table to make sure the data are properly loaded.\n",
        "# Your code here . . .\n",
        "c.execute(\"SELECT * FROM product\")\n",
        "results = c.fetchall()\n",
        "print(results)\n",
        "c.execute(\"SELECT * FROM customer\")\n",
        "results = c.fetchall()\n",
        "print(results)\n",
        "c.execute(\"SELECT * FROM purchase_order\")\n",
        "results = c.fetchall()\n",
        "print(results)\n",
        "c.execute(\"SELECT * FROM order_item\")\n",
        "results = c.fetchall()\n",
        "print(results)"
      ],
      "metadata": {
        "id": "wPHFswfYBgan",
        "colab": {
          "base_uri": "https://localhost:8080/"
        },
        "outputId": "1239e07b-5f5c-4114-f8e4-a028d6a72b91"
      },
      "execution_count": 29,
      "outputs": [
        {
          "output_type": "stream",
          "name": "stdout",
          "text": [
            "[(0, 'bicycle', 400.0), (1, 'helmet', 45.0), (2, 'gloves', 23.0), (3, 'chain', 48.0)]\n",
            "[(0, 'Wendy Lee', 'wlee@bike.com'), (1, 'Jason Brown', 'jb@speed.com'), (2, 'Harry Potter', 'hp@hogwarts.edu'), (3, 'Godric Gryffindor', 'gg@hogwards.edu')]\n",
            "[(0, 0, '2020-10-19'), (1, 0, '2020-10-20'), (2, 1, '2020-10-20')]\n",
            "[(0, 0, 1), (0, 1, 1), (1, 2, 2), (1, 3, 1)]\n"
          ]
        }
      ]
    },
    {
      "cell_type": "code",
      "source": [
        "# 2.6 Execute a query using SELECT statement that queries with JOIN tables to find the purchase date,\n",
        "#    the products and quantities that a particular customer has purchased.\n",
        "# Query 1: ???\n",
        "\n",
        "c.execute(\"SELECT purchase_order.date, customer.name FROM purchase_order, customer WHERE customer.customer_ID = purchase_order.customer_ID \")\n",
        "results = c.fetchall()\n",
        "print(results)\n",
        "\n",
        "# Query 2: ???\n",
        "# Your code here . . .\n",
        "c.execute(\"SELECT  customer.name, product.name, order_item.quantity FROM purchase_order, customer, product, order_item WHERE customer.customer_ID = purchase_order.customer_ID AND order_item.order_id = purchase_order.order_id AND product.product_id = order_item.product_id \")\n",
        "results = c.fetchall()\n",
        "print(results)"
      ],
      "metadata": {
        "id": "armxZeMPBmSe",
        "colab": {
          "base_uri": "https://localhost:8080/"
        },
        "outputId": "9c4a0a8b-c97c-4d9a-df9a-95e210bb1bf5"
      },
      "execution_count": 30,
      "outputs": [
        {
          "output_type": "stream",
          "name": "stdout",
          "text": [
            "[('2020-10-19', 'Wendy Lee'), ('2020-10-20', 'Wendy Lee'), ('2020-10-20', 'Jason Brown')]\n",
            "[('Wendy Lee', 'bicycle', 1), ('Wendy Lee', 'helmet', 1), ('Wendy Lee', 'gloves', 2), ('Wendy Lee', 'chain', 1)]\n"
          ]
        }
      ]
    },
    {
      "cell_type": "code",
      "source": [
        "# Additional tasks\n",
        "# Appending a new row to one of the tables\n",
        "SQL_InsertStmt = \"\"\"INSERT INTO product VALUES\n",
        "                 (4,'wheel', 80)\n",
        "                 \"\"\"\n",
        "\n",
        "c.execute(SQL_InsertStmt)\n",
        "\n",
        "\n",
        "# Deleting row(s) with \"XXX\"\n",
        "SQL_DeletStmt = \"\"\"DELETE FROM customer\n",
        "            WHERE name = 'Wendy Lee'\n",
        "                 \"\"\""
      ],
      "metadata": {
        "id": "h17Hwcs5jvoA"
      },
      "execution_count": 31,
      "outputs": []
    }
  ],
  "metadata": {
    "kernelspec": {
      "display_name": "Python 3",
      "language": "python",
      "name": "python3"
    },
    "language_info": {
      "codemirror_mode": {
        "name": "ipython",
        "version": 3
      },
      "file_extension": ".py",
      "mimetype": "text/x-python",
      "name": "python",
      "nbconvert_exporter": "python",
      "pygments_lexer": "ipython3",
      "version": "3.7.6"
    },
    "colab": {
      "provenance": []
    }
  },
  "nbformat": 4,
  "nbformat_minor": 0
}